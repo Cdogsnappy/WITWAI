{
 "cells": [
  {
   "cell_type": "code",
   "execution_count": null,
   "outputs": [],
   "source": [
    "import os\n",
    "import torch\n",
    "import torch.nn as nn\n",
    "import itertools\n"
   ],
   "metadata": {
    "collapsed": false,
    "is_executing": true
   },
   "id": "6bcb7a26bedab6d9"
  },
  {
   "cell_type": "code",
   "execution_count": null,
   "outputs": [],
   "source": [
    "f = open(str(os.getcwd()) + \"\\Data\\country_list.csv\",'r')\n",
    "classes = [l.rstrip() for l in f]\n",
    "classes = classes[1:]\n",
    "    "
   ],
   "metadata": {
    "collapsed": false,
    "is_executing": true
   },
   "id": "b5c1e748dcbbc4f4"
  },
  {
   "cell_type": "code",
   "execution_count": null,
   "outputs": [],
   "source": [
    "class FinalFFNN(nn.Module):\n",
    "    def __init__(self):\n",
    "        super(FinalFFNN,self).__init__()\n",
    "        self.model = nn.Sequential(\n",
    "            nn.Linear(48,64),\n",
    "            nn.ReLU(),\n",
    "            nn.Linear(64,64),\n",
    "            nn.ReLU(),\n",
    "            nn.Linear(64,len(classes))\n",
    "        )\n",
    "        self.conv_net = nn.Sequential(\n",
    "            nn.Conv2d(3, 64, kernel_size=3, stride=2, padding=1),\n",
    "            nn.ReLU(),\n",
    "            nn.Conv2d(64, 128, kernel_size=3, stride=2, padding=1),\n",
    "            nn.ReLU(),\n",
    "            nn.Conv2d(128, 256, kernel_size=3, stride=2, padding=1),\n",
    "            nn.ConvTranspose2d(256, 128, kernel_size=3, stride=2, padding=1, output_padding=1),\n",
    "            nn.ReLU(),\n",
    "            nn.ConvTranspose2d(128, 64, kernel_size=3, stride=2, padding=1, output_padding=1),\n",
    "            nn.ReLU(),\n",
    "            nn.ConvTranspose2d(64, 32, kernel_size=3, stride=2, padding=1, output_padding=1)\n",
    "        )\n",
    "    #Forward takes a list of data, with x[1] the raw image data and x[0] the additional OCR and seg_net data.\n",
    "    def forward(self, x):\n",
    "        x = x[0]+self.conv_net(x[1])\n",
    "        softmax = nn.Softmax(dim=1)\n",
    "        return softmax(self.model(x))"
   ],
   "metadata": {
    "collapsed": false,
    "is_executing": true
   },
   "id": "c22b23bf4adf07af"
  },
  {
   "cell_type": "code",
   "execution_count": null,
   "outputs": [],
   "source": [
    "\n",
    "fin_model = FinalFFNN()\n",
    "\n",
    "optimizer = torch.optim.Adam(itertools.chain(fin_model.model.parameters(), fin_model.conv_net.parameters()), lr=0.001)"
   ],
   "metadata": {
    "collapsed": false,
    "is_executing": true
   },
   "id": "e71426078e096a17"
  }
 ],
 "metadata": {
  "kernelspec": {
   "display_name": "Python 3",
   "language": "python",
   "name": "python3"
  },
  "language_info": {
   "codemirror_mode": {
    "name": "ipython",
    "version": 2
   },
   "file_extension": ".py",
   "mimetype": "text/x-python",
   "name": "python",
   "nbconvert_exporter": "python",
   "pygments_lexer": "ipython2",
   "version": "2.7.6"
  }
 },
 "nbformat": 4,
 "nbformat_minor": 5
}
