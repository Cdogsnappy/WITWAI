{
 "cells": [
  {
   "cell_type": "code",
   "execution_count": 5,
   "metadata": {},
   "outputs": [],
   "source": [
    "import kaggle\n",
    "import os\n",
    "import zipfile"
   ]
  },
  {
   "cell_type": "code",
   "execution_count": 3,
   "metadata": {},
   "outputs": [],
   "source": [
    "data_dir = \"./Data\"\n",
    "if not os.path.exists(data_dir):\n",
    "    os.makedirs(data_dir)"
   ]
  },
  {
   "cell_type": "markdown",
   "metadata": {},
   "source": [
    "Using here an initial dataset found at https://www.kaggle.com/datasets/paulchambaz/google-street-view/data\n",
    "\n",
    "This will be replaced in the future"
   ]
  },
  {
   "cell_type": "code",
   "execution_count": 4,
   "metadata": {},
   "outputs": [
    {
     "name": "stdout",
     "output_type": "stream",
     "text": [
      "Downloading google-street-view.zip to ./Data\n",
      " 99%|███████████████████████████████████████▊| 596M/600M [00:16<00:00, 44.9MB/s]\n",
      "100%|████████████████████████████████████████| 600M/600M [00:16<00:00, 39.1MB/s]\n"
     ]
    }
   ],
   "source": [
    "!kaggle datasets download -d paulchambaz/google-street-view -p {data_dir}"
   ]
  },
  {
   "cell_type": "code",
   "execution_count": 6,
   "metadata": {},
   "outputs": [],
   "source": [
    "with zipfile.ZipFile(f\"{data_dir}/google-street-view.zip\", 'r') as zip_ref:\n",
    "    zip_ref.extractall(data_dir)"
   ]
  },
  {
   "cell_type": "code",
   "execution_count": 7,
   "metadata": {},
   "outputs": [],
   "source": [
    "import pandas as pd\n",
    "import geopandas as gpd\n",
    "from shapely.geometry import Point"
   ]
  },
  {
   "cell_type": "code",
   "execution_count": 8,
   "metadata": {},
   "outputs": [],
   "source": [
    "df = pd.read_csv('./Data/dataset/coords.csv', names=['latitude', 'longitude'])\n",
    "gdf = gpd.GeoDataFrame(df, geometry=gpd.points_from_xy(df.longitude, df.latitude))\n",
    "\n"
   ]
  },
  {
   "cell_type": "markdown",
   "metadata": {},
   "source": [
    "Very rough location of Europe. We can create precise bounding for this"
   ]
  },
  {
   "cell_type": "code",
   "execution_count": 9,
   "metadata": {},
   "outputs": [
    {
     "name": "stdout",
     "output_type": "stream",
     "text": [
      "     latitude  longitude\n",
      "6   38.063497  32.597950\n",
      "10  46.719055   9.459718\n",
      "23  54.434640  36.360918\n",
      "27  41.842658  33.732040\n",
      "30  46.466908  19.610272\n"
     ]
    }
   ],
   "source": [
    "min_lon, min_lat = -25.0, 34.0  # Bottom-left point (near the Azores)\n",
    "max_lon, max_lat = 40.0, 71.0  # Top-right point (near Northern Russia)\n",
    "\n",
    "bbox = gpd.GeoSeries([Point(min_lon, min_lat), Point(max_lon, max_lat)]).unary_union.envelope\n",
    "europe_gdf = gdf[gdf.geometry.within(bbox)]\n",
    "europe_df = pd.DataFrame(europe_gdf.drop(columns='geometry'))\n",
    "print(europe_df.head())"
   ]
  }
 ],
 "metadata": {
  "kernelspec": {
   "display_name": "base",
   "language": "python",
   "name": "python3"
  },
  "language_info": {
   "codemirror_mode": {
    "name": "ipython",
    "version": 3
   },
   "file_extension": ".py",
   "mimetype": "text/x-python",
   "name": "python",
   "nbconvert_exporter": "python",
   "pygments_lexer": "ipython3",
   "version": "3.10.9"
  }
 },
 "nbformat": 4,
 "nbformat_minor": 2
}
